{
 "cells": [
  {
   "cell_type": "markdown",
   "id": "516d85a9",
   "metadata": {},
   "source": [
    "# Data science tools\n",
    "\n",
    "In this notebook we will be talking about the essential tools when it comes to being a data scientist"
   ]
  },
  {
   "cell_type": "markdown",
   "id": "d6b045fe",
   "metadata": {},
   "source": [
    "## Most used languages in data science\n",
    "\n",
    "1-Python \n",
    "\n",
    "2-Java\n",
    "\n",
    "3-C++\n",
    "\n",
    "4-Ruby\n",
    "\n",
    "5-Go\n",
    "\n",
    "6-Julia\n",
    "\n",
    "7-R"
   ]
  },
  {
   "cell_type": "markdown",
   "id": "15e1de63",
   "metadata": {},
   "source": [
    "## Most used libraries in data science\n",
    "\n",
    "Python : NumPy , Pandas , Matplotlib , Seaborn\n",
    "\n",
    "Java : Pandas , NumPy , Plotly , Scikit-learn , Category-encoders and more\n",
    "\n",
    "C++ : Dlib , MLPACK , Shark and more\n",
    "\n",
    "Ruby : NumoNArray , Daru , SciRuby and more\n",
    "\n",
    "Go : Gonum , Gorgonia , Golearn and more\n",
    "\n",
    "Julia : DataFrames.jl , Plots.jl , Distributions.jl and more\n",
    "\n",
    "R : ggplot2 ,dplyr , caret and more\n",
    "\n",
    "\n"
   ]
  },
  {
   "cell_type": "markdown",
   "id": "526e9458",
   "metadata": {},
   "source": [
    "##  Table of Data Science tools\n",
    "| Tools               | Description                                      |\n",
    "|---------------------|--------------------------------------------------|\n",
    "| Jupyter Notebook    | Interactive Python environment                   |   \n",
    "| Python              | Programming language for data analysis           |\n",
    "| NumPy               | Numerical computing library                      | \n",
    "| pandas              | Data manipulation and analysis library           |\n",
    "| Matplotlib          | Data visualization library                       | \n",
    "| Seaborn             | Statistical data visualization library           |\n",
    "| scikit-learn        | Machine learning library                         | \n",
    "| TensorFlow          | Deep learning framework                          | \n",
    "| Keras               | High-level neural networks API                   | \n",
    "| PyTorch             | Deep learning framework                          | \n",
    "| SQL                 | Query language for data manipulation             | \n",
    "| R                   | Statistical computing and data analysis language | \n",
    "| RStudio             | Integrated development environment for R         | \n",
    "| Tableau             | Data visualization and business intelligence     |\n",
    "| Power BI            | Business analytics and visualization             | \n",
    "| Apache Spark        | Distributed data processing framework            | \n",
    "| Hadoop              | Distributed storage and processing framework     |\n"
   ]
  },
  {
   "cell_type": "markdown",
   "id": "2dbb6153",
   "metadata": {},
   "source": [
    "## Arithmetic expression examples\n",
    "\n",
    "- Basic arithmetic operations (+, -, *, /)\n",
    "- Order of operations (parentheses)\n",
    "- Floating-point arithmetic\n",
    "- Using variables in expressions\n",
    "- Common mathematical functions (e.g., `sqrt`, `exp`, `sin`, `cos`)\n",
    "- Complex expressions involving multiple operations"
   ]
  },
  {
   "cell_type": "code",
   "execution_count": 4,
   "id": "6849d3ce",
   "metadata": {},
   "outputs": [
    {
     "name": "stdout",
     "output_type": "stream",
     "text": [
      "505\n"
     ]
    }
   ],
   "source": [
    "#  Multiply and add numbers\n",
    "\n",
    "result = (15-10)*100\n",
    "Number = 5\n",
    "numberX= Number + result\n",
    "print(f'{numberX}')"
   ]
  },
  {
   "cell_type": "code",
   "execution_count": 7,
   "id": "590fa221",
   "metadata": {},
   "outputs": [
    {
     "name": "stdout",
     "output_type": "stream",
     "text": [
      "3.4166666666666665 hours\n"
     ]
    }
   ],
   "source": [
    "minutes = 205\n",
    "hours = 60\n",
    "result = minutes / hours \n",
    "print(f'{result} hours')"
   ]
  },
  {
   "cell_type": "markdown",
   "id": "c441b7cc",
   "metadata": {},
   "source": [
    "### Samuel Garcia"
   ]
  }
 ],
 "metadata": {
  "kernelspec": {
   "display_name": "Python 3 (ipykernel)",
   "language": "python",
   "name": "python3"
  },
  "language_info": {
   "codemirror_mode": {
    "name": "ipython",
    "version": 3
   },
   "file_extension": ".py",
   "mimetype": "text/x-python",
   "name": "python",
   "nbconvert_exporter": "python",
   "pygments_lexer": "ipython3",
   "version": "3.11.4"
  }
 },
 "nbformat": 4,
 "nbformat_minor": 5
}
